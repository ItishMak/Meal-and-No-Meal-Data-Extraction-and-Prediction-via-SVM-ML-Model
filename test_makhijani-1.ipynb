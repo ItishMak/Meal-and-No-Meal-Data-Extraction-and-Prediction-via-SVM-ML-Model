{
  "nbformat": 4,
  "nbformat_minor": 0,
  "metadata": {
    "colab": {
      "name": "test_makhijani.ipynb",
      "provenance": []
    },
    "kernelspec": {
      "name": "python3",
      "display_name": "Python 3"
    }
  },
  "cells": [
    {
      "cell_type": "code",
      "metadata": {
        "id": "fBmODVAnHn3_"
      },
      "source": [
        "import pandas as pd\n",
        "import numpy as np\n",
        "import matplotlib.pyplot as plt\n",
        "import plotly.graph_objects as go\n",
        "import plotly.express as px\n",
        "from past.builtins import xrange\n",
        "import datetime\n",
        "from datetime import timedelta\n",
        "from pandas import DataFrame\n",
        "from scipy.fftpack import fft, ifft,dct\n",
        "import pywt\n",
        "import scipy.stats as stats"
      ],
      "execution_count": 2,
      "outputs": []
    },
    {
      "cell_type": "code",
      "metadata": {
        "id": "KG96b7ByHsOX",
        "outputId": "5043d01b-f938-4653-f5e2-5811d5459b62",
        "colab": {
          "base_uri": "https://localhost:8080/",
          "height": 408
        }
      },
      "source": [
        "#------Please Enter name of TestFile here as \"nameoffile.csv\"--------\n",
        "data = pd.read_csv('test.csv', error_bad_lines=False)\n",
        "data = data.values.tolist()"
      ],
      "execution_count": 21,
      "outputs": [
        {
          "output_type": "error",
          "ename": "FileNotFoundError",
          "evalue": "ignored",
          "traceback": [
            "\u001b[0;31m---------------------------------------------------------------------------\u001b[0m",
            "\u001b[0;31mFileNotFoundError\u001b[0m                         Traceback (most recent call last)",
            "\u001b[0;32m<ipython-input-21-2d27ba001e99>\u001b[0m in \u001b[0;36m<module>\u001b[0;34m()\u001b[0m\n\u001b[1;32m      1\u001b[0m \u001b[0;31m#------Please Enter name of TestFile here as \"nameoffile.csv\"--------\u001b[0m\u001b[0;34m\u001b[0m\u001b[0;34m\u001b[0m\u001b[0;34m\u001b[0m\u001b[0m\n\u001b[0;32m----> 2\u001b[0;31m \u001b[0mdata\u001b[0m \u001b[0;34m=\u001b[0m \u001b[0mpd\u001b[0m\u001b[0;34m.\u001b[0m\u001b[0mread_csv\u001b[0m\u001b[0;34m(\u001b[0m\u001b[0;34m'test.csv'\u001b[0m\u001b[0;34m,\u001b[0m \u001b[0merror_bad_lines\u001b[0m\u001b[0;34m=\u001b[0m\u001b[0;32mFalse\u001b[0m\u001b[0;34m)\u001b[0m\u001b[0;34m\u001b[0m\u001b[0;34m\u001b[0m\u001b[0m\n\u001b[0m\u001b[1;32m      3\u001b[0m \u001b[0mdata\u001b[0m \u001b[0;34m=\u001b[0m \u001b[0mdata\u001b[0m\u001b[0;34m.\u001b[0m\u001b[0mvalues\u001b[0m\u001b[0;34m.\u001b[0m\u001b[0mtolist\u001b[0m\u001b[0;34m(\u001b[0m\u001b[0;34m)\u001b[0m\u001b[0;34m\u001b[0m\u001b[0;34m\u001b[0m\u001b[0m\n",
            "\u001b[0;32m/usr/local/lib/python3.6/dist-packages/pandas/io/parsers.py\u001b[0m in \u001b[0;36mread_csv\u001b[0;34m(filepath_or_buffer, sep, delimiter, header, names, index_col, usecols, squeeze, prefix, mangle_dupe_cols, dtype, engine, converters, true_values, false_values, skipinitialspace, skiprows, skipfooter, nrows, na_values, keep_default_na, na_filter, verbose, skip_blank_lines, parse_dates, infer_datetime_format, keep_date_col, date_parser, dayfirst, cache_dates, iterator, chunksize, compression, thousands, decimal, lineterminator, quotechar, quoting, doublequote, escapechar, comment, encoding, dialect, error_bad_lines, warn_bad_lines, delim_whitespace, low_memory, memory_map, float_precision)\u001b[0m\n\u001b[1;32m    684\u001b[0m     )\n\u001b[1;32m    685\u001b[0m \u001b[0;34m\u001b[0m\u001b[0m\n\u001b[0;32m--> 686\u001b[0;31m     \u001b[0;32mreturn\u001b[0m \u001b[0m_read\u001b[0m\u001b[0;34m(\u001b[0m\u001b[0mfilepath_or_buffer\u001b[0m\u001b[0;34m,\u001b[0m \u001b[0mkwds\u001b[0m\u001b[0;34m)\u001b[0m\u001b[0;34m\u001b[0m\u001b[0;34m\u001b[0m\u001b[0m\n\u001b[0m\u001b[1;32m    687\u001b[0m \u001b[0;34m\u001b[0m\u001b[0m\n\u001b[1;32m    688\u001b[0m \u001b[0;34m\u001b[0m\u001b[0m\n",
            "\u001b[0;32m/usr/local/lib/python3.6/dist-packages/pandas/io/parsers.py\u001b[0m in \u001b[0;36m_read\u001b[0;34m(filepath_or_buffer, kwds)\u001b[0m\n\u001b[1;32m    450\u001b[0m \u001b[0;34m\u001b[0m\u001b[0m\n\u001b[1;32m    451\u001b[0m     \u001b[0;31m# Create the parser.\u001b[0m\u001b[0;34m\u001b[0m\u001b[0;34m\u001b[0m\u001b[0;34m\u001b[0m\u001b[0m\n\u001b[0;32m--> 452\u001b[0;31m     \u001b[0mparser\u001b[0m \u001b[0;34m=\u001b[0m \u001b[0mTextFileReader\u001b[0m\u001b[0;34m(\u001b[0m\u001b[0mfp_or_buf\u001b[0m\u001b[0;34m,\u001b[0m \u001b[0;34m**\u001b[0m\u001b[0mkwds\u001b[0m\u001b[0;34m)\u001b[0m\u001b[0;34m\u001b[0m\u001b[0;34m\u001b[0m\u001b[0m\n\u001b[0m\u001b[1;32m    453\u001b[0m \u001b[0;34m\u001b[0m\u001b[0m\n\u001b[1;32m    454\u001b[0m     \u001b[0;32mif\u001b[0m \u001b[0mchunksize\u001b[0m \u001b[0;32mor\u001b[0m \u001b[0miterator\u001b[0m\u001b[0;34m:\u001b[0m\u001b[0;34m\u001b[0m\u001b[0;34m\u001b[0m\u001b[0m\n",
            "\u001b[0;32m/usr/local/lib/python3.6/dist-packages/pandas/io/parsers.py\u001b[0m in \u001b[0;36m__init__\u001b[0;34m(self, f, engine, **kwds)\u001b[0m\n\u001b[1;32m    944\u001b[0m             \u001b[0mself\u001b[0m\u001b[0;34m.\u001b[0m\u001b[0moptions\u001b[0m\u001b[0;34m[\u001b[0m\u001b[0;34m\"has_index_names\"\u001b[0m\u001b[0;34m]\u001b[0m \u001b[0;34m=\u001b[0m \u001b[0mkwds\u001b[0m\u001b[0;34m[\u001b[0m\u001b[0;34m\"has_index_names\"\u001b[0m\u001b[0;34m]\u001b[0m\u001b[0;34m\u001b[0m\u001b[0;34m\u001b[0m\u001b[0m\n\u001b[1;32m    945\u001b[0m \u001b[0;34m\u001b[0m\u001b[0m\n\u001b[0;32m--> 946\u001b[0;31m         \u001b[0mself\u001b[0m\u001b[0;34m.\u001b[0m\u001b[0m_make_engine\u001b[0m\u001b[0;34m(\u001b[0m\u001b[0mself\u001b[0m\u001b[0;34m.\u001b[0m\u001b[0mengine\u001b[0m\u001b[0;34m)\u001b[0m\u001b[0;34m\u001b[0m\u001b[0;34m\u001b[0m\u001b[0m\n\u001b[0m\u001b[1;32m    947\u001b[0m \u001b[0;34m\u001b[0m\u001b[0m\n\u001b[1;32m    948\u001b[0m     \u001b[0;32mdef\u001b[0m \u001b[0mclose\u001b[0m\u001b[0;34m(\u001b[0m\u001b[0mself\u001b[0m\u001b[0;34m)\u001b[0m\u001b[0;34m:\u001b[0m\u001b[0;34m\u001b[0m\u001b[0;34m\u001b[0m\u001b[0m\n",
            "\u001b[0;32m/usr/local/lib/python3.6/dist-packages/pandas/io/parsers.py\u001b[0m in \u001b[0;36m_make_engine\u001b[0;34m(self, engine)\u001b[0m\n\u001b[1;32m   1176\u001b[0m     \u001b[0;32mdef\u001b[0m \u001b[0m_make_engine\u001b[0m\u001b[0;34m(\u001b[0m\u001b[0mself\u001b[0m\u001b[0;34m,\u001b[0m \u001b[0mengine\u001b[0m\u001b[0;34m=\u001b[0m\u001b[0;34m\"c\"\u001b[0m\u001b[0;34m)\u001b[0m\u001b[0;34m:\u001b[0m\u001b[0;34m\u001b[0m\u001b[0;34m\u001b[0m\u001b[0m\n\u001b[1;32m   1177\u001b[0m         \u001b[0;32mif\u001b[0m \u001b[0mengine\u001b[0m \u001b[0;34m==\u001b[0m \u001b[0;34m\"c\"\u001b[0m\u001b[0;34m:\u001b[0m\u001b[0;34m\u001b[0m\u001b[0;34m\u001b[0m\u001b[0m\n\u001b[0;32m-> 1178\u001b[0;31m             \u001b[0mself\u001b[0m\u001b[0;34m.\u001b[0m\u001b[0m_engine\u001b[0m \u001b[0;34m=\u001b[0m \u001b[0mCParserWrapper\u001b[0m\u001b[0;34m(\u001b[0m\u001b[0mself\u001b[0m\u001b[0;34m.\u001b[0m\u001b[0mf\u001b[0m\u001b[0;34m,\u001b[0m \u001b[0;34m**\u001b[0m\u001b[0mself\u001b[0m\u001b[0;34m.\u001b[0m\u001b[0moptions\u001b[0m\u001b[0;34m)\u001b[0m\u001b[0;34m\u001b[0m\u001b[0;34m\u001b[0m\u001b[0m\n\u001b[0m\u001b[1;32m   1179\u001b[0m         \u001b[0;32melse\u001b[0m\u001b[0;34m:\u001b[0m\u001b[0;34m\u001b[0m\u001b[0;34m\u001b[0m\u001b[0m\n\u001b[1;32m   1180\u001b[0m             \u001b[0;32mif\u001b[0m \u001b[0mengine\u001b[0m \u001b[0;34m==\u001b[0m \u001b[0;34m\"python\"\u001b[0m\u001b[0;34m:\u001b[0m\u001b[0;34m\u001b[0m\u001b[0;34m\u001b[0m\u001b[0m\n",
            "\u001b[0;32m/usr/local/lib/python3.6/dist-packages/pandas/io/parsers.py\u001b[0m in \u001b[0;36m__init__\u001b[0;34m(self, src, **kwds)\u001b[0m\n\u001b[1;32m   2006\u001b[0m         \u001b[0mkwds\u001b[0m\u001b[0;34m[\u001b[0m\u001b[0;34m\"usecols\"\u001b[0m\u001b[0;34m]\u001b[0m \u001b[0;34m=\u001b[0m \u001b[0mself\u001b[0m\u001b[0;34m.\u001b[0m\u001b[0musecols\u001b[0m\u001b[0;34m\u001b[0m\u001b[0;34m\u001b[0m\u001b[0m\n\u001b[1;32m   2007\u001b[0m \u001b[0;34m\u001b[0m\u001b[0m\n\u001b[0;32m-> 2008\u001b[0;31m         \u001b[0mself\u001b[0m\u001b[0;34m.\u001b[0m\u001b[0m_reader\u001b[0m \u001b[0;34m=\u001b[0m \u001b[0mparsers\u001b[0m\u001b[0;34m.\u001b[0m\u001b[0mTextReader\u001b[0m\u001b[0;34m(\u001b[0m\u001b[0msrc\u001b[0m\u001b[0;34m,\u001b[0m \u001b[0;34m**\u001b[0m\u001b[0mkwds\u001b[0m\u001b[0;34m)\u001b[0m\u001b[0;34m\u001b[0m\u001b[0;34m\u001b[0m\u001b[0m\n\u001b[0m\u001b[1;32m   2009\u001b[0m         \u001b[0mself\u001b[0m\u001b[0;34m.\u001b[0m\u001b[0munnamed_cols\u001b[0m \u001b[0;34m=\u001b[0m \u001b[0mself\u001b[0m\u001b[0;34m.\u001b[0m\u001b[0m_reader\u001b[0m\u001b[0;34m.\u001b[0m\u001b[0munnamed_cols\u001b[0m\u001b[0;34m\u001b[0m\u001b[0;34m\u001b[0m\u001b[0m\n\u001b[1;32m   2010\u001b[0m \u001b[0;34m\u001b[0m\u001b[0m\n",
            "\u001b[0;32mpandas/_libs/parsers.pyx\u001b[0m in \u001b[0;36mpandas._libs.parsers.TextReader.__cinit__\u001b[0;34m()\u001b[0m\n",
            "\u001b[0;32mpandas/_libs/parsers.pyx\u001b[0m in \u001b[0;36mpandas._libs.parsers.TextReader._setup_parser_source\u001b[0;34m()\u001b[0m\n",
            "\u001b[0;31mFileNotFoundError\u001b[0m: [Errno 2] No such file or directory: 'test.csv'"
          ]
        }
      ]
    },
    {
      "cell_type": "code",
      "metadata": {
        "id": "dgPYSpfYJCbM"
      },
      "source": [
        " def rank_feature(meal_cgm_master_list):\n",
        "  def calc_rank_row(meal_data,row):\n",
        "    rank = [0 for x in range(len(meal_data[row]))]\n",
        "    for j in range (len(meal_data[row])):\n",
        "      (r,s)=(1,1)\n",
        "      for k in range (len(meal_data[row])):\n",
        "        if k != j and meal_data[row][k] < meal_data[row][j]:\n",
        "          r += 1\n",
        "        if k != j and meal_data[row][k] == meal_data[row][j]:\n",
        "          s += 1       \n",
        "      rank[j] = r + (s - 1) / 2\n",
        "    return (rank) \n",
        "\n",
        "  rank_list_meal=[]\n",
        "  for row in range(len(data)):\n",
        "    ranks_list_meal = calc_rank_row(data,row)\n",
        "    rank_list_meal.append(ranks_list_meal)\n",
        "  #print(rank_list_meal)\n",
        "  ranks_list_df_meal = pd.DataFrame(rank_list_meal)\n",
        "  ranks_list_df_meal = ranks_list_df_meal.iloc[:,:24]\n",
        "  return (ranks_list_df_meal)"
      ],
      "execution_count": 22,
      "outputs": []
    },
    {
      "cell_type": "code",
      "metadata": {
        "id": "lpmgnrE2EHdR"
      },
      "source": [
        "def z_score_feature(meal_cgm_master_list):\n",
        "  def z_score_feat(meal_list,row):\n",
        "    z_score_arr = np.array(meal_list[row])\n",
        "    z_score_list = stats.zscore(z_score_arr)\n",
        "    return (z_score_list)\n",
        "\n",
        "  z_scores_meal=[]\n",
        "  for row in range (len(data)):\n",
        "    z_score_res_list = z_score_feat(data,row)\n",
        "    z_scores_meal.append(z_score_res_list)\n",
        "  z_score_res_list_df_meal = pd.DataFrame(z_scores_meal)\n",
        "  z_score_res_list_df_meal = z_score_res_list_df_meal.iloc[:,:24]\n",
        "  return (z_score_res_list_df_meal)"
      ],
      "execution_count": 23,
      "outputs": []
    },
    {
      "cell_type": "code",
      "metadata": {
        "id": "WO1zsCW3FuV0"
      },
      "source": [
        "def peaks_fouriertrans_feature(meal_cgm_master_list):\n",
        "  def calc_peaks_fouriertrans(meal_list,row):\n",
        "      fouriertrans = list()\n",
        "      peak_feat = list()\n",
        "      arr = np.array(meal_list[row])\n",
        "      # print(fft(arr))\n",
        "      fouriertrans.append(abs(fft(arr)))\n",
        "      for val in range(len(fouriertrans)):\n",
        "        sets = set(fouriertrans[val])  \n",
        "        set_list = list(sets)\n",
        "        set_list.sort()\n",
        "        set_list = set_list[::-1][0:8]\n",
        "        # print(set_list)\n",
        "        peak_feat+=set_list\n",
        "      # print(peak_feat)\n",
        "      return (fouriertrans,peak_feat)  \n",
        "\n",
        "\n",
        "  x_meal=[]\n",
        "  y_meal=[]\n",
        "  for row in range(len(data)):\n",
        "    x1,y1 = calc_peaks_fouriertrans(data,row)\n",
        "    x_meal.append(x1)\n",
        "    y_meal.append(list(y1))\n",
        "  # print(len(y_meal))\n",
        "  peak_valdf_meal = pd.DataFrame(y_meal)\n",
        "  return (peak_valdf_meal)"
      ],
      "execution_count": 24,
      "outputs": []
    },
    {
      "cell_type": "code",
      "metadata": {
        "id": "guQQmk0BGPy3"
      },
      "source": [
        "def windowed_mean_feature(meal_cgm_master_list):  \n",
        "  def windowed_mean(meal_list,row):\n",
        "    w_size = 5\n",
        "    window_averages =[]\n",
        "    i=0\n",
        "    while i < len(meal_list[row]) - w_size +1: \n",
        "      nw_size = meal_list[row][i : i + w_size]\n",
        "      w_average = sum(nw_size)/w_size\n",
        "      window_averages.append(w_average)\n",
        "      i+=w_size\n",
        "    # print(len(window_averages))\n",
        "    return (window_averages[1:5]) \n",
        "\n",
        "  windowed_average_list_meal = []\n",
        "  for row in range (len(data)):\n",
        "    average_list = windowed_mean(data,row)\n",
        "    windowed_average_list_meal.append(average_list)\n",
        "  windowed_average_list_df_meal = pd.DataFrame(windowed_average_list_meal)\n",
        "  return (windowed_average_list_df_meal)"
      ],
      "execution_count": 25,
      "outputs": []
    },
    {
      "cell_type": "code",
      "metadata": {
        "id": "NmaE-j3IGmte"
      },
      "source": [
        "def wavelet_transform_feature(meal_cgm_master_list):  \n",
        "  def discrete_wavelet_trans(meal_data,row):\n",
        "    (cA,cD) = pywt.dwt(meal_data[row], 'db1')\n",
        "    cA = cA[::-1][0:8]\n",
        "    return (cA,cD)\n",
        "\n",
        "  x_meal=[]\n",
        "  for row in range(len(data)):\n",
        "    x1,y1 = discrete_wavelet_trans(data,row)\n",
        "    x_meal.append(list(x1))\n",
        "    discrete_wavelet_df_meal = pd.DataFrame(x_meal)  \n",
        "  return (discrete_wavelet_df_meal) "
      ],
      "execution_count": 26,
      "outputs": []
    },
    {
      "cell_type": "code",
      "metadata": {
        "id": "QZES5ecSHB3Q"
      },
      "source": [
        "def Coeff_of_variation_feature(meal_cgm_master_list):\n",
        "  def coeff_of_var(meal_data,row):\n",
        "    mean = np.mean(meal_data[row])\n",
        "    std_dev = np.std(meal_data[row])\n",
        "    result = mean/std_dev\n",
        "    return (result)\n",
        "\n",
        "  coeff_of_var_meal_list = []\n",
        "  for row in range(len(data)):\n",
        "      coeff_val = coeff_of_var(data,row)\n",
        "      coeff_of_var_meal_list.append(coeff_val)\n",
        "  coeff_of_var_df_meal = pd.DataFrame(coeff_of_var_meal_list) \n",
        "  return (coeff_of_var_df_meal) "
      ],
      "execution_count": 27,
      "outputs": []
    },
    {
      "cell_type": "code",
      "metadata": {
        "id": "hUUbvm7wHX6m"
      },
      "source": [
        "def diff_max_min_feature(meal_cgm_master_list): \n",
        "  def diff_max_min_cgm(meal_list,row):\n",
        "    max_cgm_val = max(meal_list[row])\n",
        "    min_cgm_val = min(meal_list[row])\n",
        "    result = max_cgm_val - min_cgm_val\n",
        "    return (result)\n",
        "\n",
        "  difference_list_meal = []\n",
        "  for row in range (len(data)):\n",
        "    difference = diff_max_min_cgm(data,row)\n",
        "    difference_list_meal.append(difference)\n",
        "  difference_df_meal = pd.DataFrame(difference_list_meal) \n",
        "  return (difference_df_meal)"
      ],
      "execution_count": 28,
      "outputs": []
    },
    {
      "cell_type": "code",
      "metadata": {
        "id": "_n7Jik6fKZnP"
      },
      "source": [
        "df1= diff_max_min_feature(data)\n",
        "df2=Coeff_of_variation_feature(data)\n",
        "df3=wavelet_transform_feature(data)\n",
        "df4=windowed_mean_feature(data)\n",
        "df5=peaks_fouriertrans_feature(data)\n",
        "df6=z_score_feature(data)\n",
        "df7=rank_feature(data)\n",
        "\n",
        "\n",
        "\n",
        "\n",
        "\n",
        "\n"
      ],
      "execution_count": 29,
      "outputs": []
    },
    {
      "cell_type": "code",
      "metadata": {
        "id": "RwkkHYadUOOP"
      },
      "source": [
        "prediction_dataset = pd.concat([df1,df2,df3,df4,df5,df6,df7],axis=1).fillna(0)\n"
      ],
      "execution_count": 30,
      "outputs": []
    },
    {
      "cell_type": "code",
      "metadata": {
        "id": "8MVLGNhfV0Sx"
      },
      "source": [
        "from sklearn.decomposition import PCA\n",
        "from sklearn.preprocessing import StandardScaler\n",
        "from scipy import stats\n",
        "\n",
        "feat_dataset = StandardScaler().fit_transform(prediction_dataset)\n",
        "\n",
        "pca = PCA(n_components= 15)\n",
        "pca_component_extract = pca.fit_transform(feat_dataset)\n",
        "pca_dataframe = pd.DataFrame(data = pca_component_extract, columns = ['PC 1', 'PC 2','PC 3','PC 4','PC 5','PC 6','PC 7','PC 8','PC 9','PC 10','PC 11','PC 12','PC 13','PC 14','PC 15'])"
      ],
      "execution_count": 31,
      "outputs": []
    },
    {
      "cell_type": "code",
      "metadata": {
        "id": "SPRngc_3XdUl",
        "outputId": "c4d13cd6-282a-4ad2-dd82-e8bd1130566c",
        "colab": {
          "base_uri": "https://localhost:8080/",
          "height": 68
        }
      },
      "source": [
        "# using from : https://stackoverflow.com/questions/56107259/how-to-save-a-trained-model-by-scikit-learn\n",
        "from joblib import dump, load\n",
        "with open('SVM_Classifier.pickle', 'rb') as loaded_model:\n",
        "    pickle_file = load(loaded_model)\n",
        "    prediction_metric = pickle_file.predict(pca_dataframe)    \n",
        "    loaded_model.close()\n",
        "    print('Prediction :-')\n",
        "    print (prediction_metric)"
      ],
      "execution_count": 32,
      "outputs": [
        {
          "output_type": "stream",
          "text": [
            "Prediction :-\n",
            "[1 1 0 1 1 1 1 0 0 0 0 1 0 1 1 1 0 1 0 1 1 1 1 0 1 1 1 1 1 1 1 1 1 0 1 0 1\n",
            " 0 0 0 0 1 1]\n"
          ],
          "name": "stdout"
        }
      ]
    },
    {
      "cell_type": "code",
      "metadata": {
        "id": "rd_TZ3B6kuqy",
        "outputId": "f99d928a-a695-4f7e-ed16-eafe4a453690",
        "colab": {
          "base_uri": "https://localhost:8080/",
          "height": 765
        }
      },
      "source": [
        "prediction_df = DataFrame(prediction_metric,columns=['Output Bits'])\n",
        "prediction_df.to_csv('Results_Makhijani_2.csv',index=False)\n",
        "print(prediction_df.head)"
      ],
      "execution_count": 33,
      "outputs": [
        {
          "output_type": "stream",
          "text": [
            "<bound method NDFrame.head of     Output Bits\n",
            "0             1\n",
            "1             1\n",
            "2             0\n",
            "3             1\n",
            "4             1\n",
            "5             1\n",
            "6             1\n",
            "7             0\n",
            "8             0\n",
            "9             0\n",
            "10            0\n",
            "11            1\n",
            "12            0\n",
            "13            1\n",
            "14            1\n",
            "15            1\n",
            "16            0\n",
            "17            1\n",
            "18            0\n",
            "19            1\n",
            "20            1\n",
            "21            1\n",
            "22            1\n",
            "23            0\n",
            "24            1\n",
            "25            1\n",
            "26            1\n",
            "27            1\n",
            "28            1\n",
            "29            1\n",
            "30            1\n",
            "31            1\n",
            "32            1\n",
            "33            0\n",
            "34            1\n",
            "35            0\n",
            "36            1\n",
            "37            0\n",
            "38            0\n",
            "39            0\n",
            "40            0\n",
            "41            1\n",
            "42            1>\n"
          ],
          "name": "stdout"
        }
      ]
    }
  ]
}